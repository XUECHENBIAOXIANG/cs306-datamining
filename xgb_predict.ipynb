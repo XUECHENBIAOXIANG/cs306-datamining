{
 "cells": [
  {
   "cell_type": "code",
   "execution_count": 1,
   "outputs": [],
   "source": [
    "import numpy as np\n",
    "import pandas as pd\n",
    "import seaborn as sns\n",
    "import matplotlib.pyplot as plt\n",
    "%matplotlib inline\n",
    "import xgboost as xgb\n",
    "from xgboost import XGBClassifier, plot_importance\n",
    "from sklearn.preprocessing import LabelEncoder\n",
    "from sklearn.model_selection import train_test_split, GridSearchCV\n",
    "from sklearn.metrics import mean_squared_error, mean_absolute_error\n",
    "from sklearn.metrics import accuracy_score, roc_auc_score, f1_score\n",
    "import pickle\n",
    "\n",
    "import warnings\n",
    "\n",
    "warnings.filterwarnings('ignore')"
   ],
   "metadata": {
    "collapsed": false,
    "ExecuteTime": {
     "end_time": "2024-06-04T08:55:34.581134Z",
     "start_time": "2024-06-04T08:55:34.105899Z"
    }
   }
  },
  {
   "cell_type": "markdown",
   "source": [
    "### Load data from txt files"
   ],
   "metadata": {
    "collapsed": false
   }
  },
  {
   "cell_type": "code",
   "execution_count": 2,
   "outputs": [],
   "source": [
    "time_feature = pd.read_csv('data/time_feature.txt', sep=';')\n",
    "road_feature = pd.read_csv('data/road_feature.txt', sep=';')"
   ],
   "metadata": {
    "collapsed": false,
    "ExecuteTime": {
     "end_time": "2024-06-04T08:55:48.517228Z",
     "start_time": "2024-06-04T08:55:34.582258Z"
    }
   }
  },
  {
   "cell_type": "code",
   "execution_count": 3,
   "outputs": [
    {
     "name": "stdout",
     "output_type": "stream",
     "text": [
      "<class 'pandas.core.frame.DataFrame'>\n",
      "RangeIndex: 19395095 entries, 0 to 19395094\n",
      "Data columns (total 5 columns):\n",
      " #   Column                Dtype  \n",
      "---  ------                -----  \n",
      " 0   linkID                float64\n",
      " 1   start_time            object \n",
      " 2   travel_time           float64\n",
      " 3   combined_hour_day     object \n",
      " 4   avg_travel_time_hour  float64\n",
      "dtypes: float64(3), object(2)\n",
      "memory usage: 739.9+ MB\n"
     ]
    }
   ],
   "source": [
    "time_feature.info()"
   ],
   "metadata": {
    "collapsed": false,
    "ExecuteTime": {
     "end_time": "2024-06-04T08:55:48.527003Z",
     "start_time": "2024-06-04T08:55:48.518289Z"
    }
   }
  },
  {
   "cell_type": "code",
   "execution_count": 4,
   "outputs": [
    {
     "name": "stdout",
     "output_type": "stream",
     "text": [
      "<class 'pandas.core.frame.DataFrame'>\n",
      "RangeIndex: 132 entries, 0 to 131\n",
      "Data columns (total 8 columns):\n",
      " #   Column                  Non-Null Count  Dtype  \n",
      "---  ------                  --------------  -----  \n",
      " 0   linkID                  132 non-null    uint64 \n",
      " 1   travel_time_avg         132 non-null    float64\n",
      " 2   length                  132 non-null    int64  \n",
      " 3   width                   132 non-null    int64  \n",
      " 4   area                    132 non-null    int64  \n",
      " 5   in_link_count           132 non-null    int64  \n",
      " 6   out_link_count          132 non-null    int64  \n",
      " 7   link_count_combination  132 non-null    object \n",
      "dtypes: float64(1), int64(5), object(1), uint64(1)\n",
      "memory usage: 8.4+ KB\n"
     ]
    }
   ],
   "source": [
    "road_feature.info()"
   ],
   "metadata": {
    "collapsed": false,
    "ExecuteTime": {
     "end_time": "2024-06-04T08:55:48.534686Z",
     "start_time": "2024-06-04T08:55:48.528057Z"
    }
   }
  },
  {
   "cell_type": "markdown",
   "source": [
    "# Experiment"
   ],
   "metadata": {
    "collapsed": false
   }
  },
  {
   "cell_type": "code",
   "execution_count": 5,
   "outputs": [],
   "source": [
    "def encode_data(data, col_name):\n",
    "    # 将combined_hour_day编码为数值\n",
    "    label_encoder = LabelEncoder()\n",
    "    encode_name = col_name+'_encode'\n",
    "    data[encode_name] = label_encoder.fit_transform(data[col_name])\n",
    "    return data"
   ],
   "metadata": {
    "collapsed": false,
    "ExecuteTime": {
     "end_time": "2024-06-04T08:55:48.538728Z",
     "start_time": "2024-06-04T08:55:48.535775Z"
    }
   }
  },
  {
   "cell_type": "code",
   "execution_count": 6,
   "outputs": [
    {
     "name": "stdout",
     "output_type": "stream",
     "text": [
      "<class 'pandas.core.frame.DataFrame'>\n",
      "RangeIndex: 19395095 entries, 0 to 19395094\n",
      "Data columns (total 6 columns):\n",
      " #   Column                    Dtype  \n",
      "---  ------                    -----  \n",
      " 0   linkID                    float64\n",
      " 1   start_time                object \n",
      " 2   travel_time               float64\n",
      " 3   combined_hour_day         object \n",
      " 4   avg_travel_time_hour      float64\n",
      " 5   combined_hour_day_encode  int32  \n",
      "dtypes: float64(3), int32(1), object(2)\n",
      "memory usage: 813.9+ MB\n"
     ]
    }
   ],
   "source": [
    "time_data = encode_data(time_feature, 'combined_hour_day')\n",
    "time_data.info()"
   ],
   "metadata": {
    "collapsed": false,
    "ExecuteTime": {
     "end_time": "2024-06-04T08:55:50.744446Z",
     "start_time": "2024-06-04T08:55:48.539818Z"
    }
   }
  },
  {
   "cell_type": "code",
   "execution_count": 7,
   "outputs": [
    {
     "name": "stdout",
     "output_type": "stream",
     "text": [
      "<class 'pandas.core.frame.DataFrame'>\n",
      "RangeIndex: 132 entries, 0 to 131\n",
      "Data columns (total 9 columns):\n",
      " #   Column                         Non-Null Count  Dtype  \n",
      "---  ------                         --------------  -----  \n",
      " 0   linkID                         132 non-null    uint64 \n",
      " 1   travel_time_avg                132 non-null    float64\n",
      " 2   length                         132 non-null    int64  \n",
      " 3   width                          132 non-null    int64  \n",
      " 4   area                           132 non-null    int64  \n",
      " 5   in_link_count                  132 non-null    int64  \n",
      " 6   out_link_count                 132 non-null    int64  \n",
      " 7   link_count_combination         132 non-null    object \n",
      " 8   link_count_combination_encode  132 non-null    int32  \n",
      "dtypes: float64(1), int32(1), int64(5), object(1), uint64(1)\n",
      "memory usage: 8.9+ KB\n"
     ]
    }
   ],
   "source": [
    "road_data = encode_data(road_feature, 'link_count_combination')\n",
    "road_data.info()"
   ],
   "metadata": {
    "collapsed": false,
    "ExecuteTime": {
     "end_time": "2024-06-04T08:55:50.753025Z",
     "start_time": "2024-06-04T08:55:50.745540Z"
    }
   }
  },
  {
   "cell_type": "code",
   "execution_count": 8,
   "outputs": [
    {
     "data": {
      "text/plain": "             travel_time                                                    \\\n                   count      mean       std       min       25%       50%   \nlinkID                                                                       \n3.377906e+18    122530.0  2.233718  0.243748  1.335001  2.219663  2.310238   \n3.377906e+18    145826.0  2.604665  0.489743  1.435085  2.300349  2.404087   \n3.377906e+18    148856.0  2.033935  0.428909  0.832909  1.629241  2.265155   \n3.377906e+18    121269.0  2.345035  0.176963  1.481605  2.257927  2.338612   \n3.377906e+18    137209.0  2.091604  0.418682  1.131402  1.629241  2.288618   \n...                  ...       ...       ...       ...       ...       ...   \n9.377906e+18    118374.0  2.097885  0.456783  0.741937  2.144335  2.304647   \n9.377906e+18    150988.0  2.864127  0.734469  1.791759  2.333905  2.448351   \n9.377906e+18    110683.0  2.292772  0.192700  1.223775  2.246707  2.326676   \n9.377906e+18    151017.0  2.306214  0.253602  1.386294  2.220482  2.315355   \n9.377906e+18    151422.0  1.987825  0.484319  0.741937  1.458615  2.264746   \n\n                                 avg_travel_time_hour            ...  \\\n                   75%       max                count      mean  ...   \nlinkID                                                           ...   \n3.377906e+18  2.401631  3.278207             122530.0  2.233718  ...   \n3.377906e+18  2.815409  4.876595             145826.0  2.604665  ...   \n3.377906e+18  2.377964  2.866920             148856.0  2.033935  ...   \n3.377906e+18  2.425094  4.036855             121269.0  2.345035  ...   \n3.377906e+18  2.391333  3.781978             137209.0  2.091604  ...   \n...                ...       ...                  ...       ...  ...   \n9.377906e+18  2.395221  3.163558             118374.0  2.097885  ...   \n9.377906e+18  3.437208  5.555111             150988.0  2.864127  ...   \n9.377906e+18  2.412544  3.761200             110683.0  2.292772  ...   \n9.377906e+18  2.417456  4.531942             151017.0  2.306214  ...   \n9.377906e+18  2.378783  3.991639             151422.0  1.987825  ...   \n\n                                 combined_hour_day_encode                      \\\n                   75%       max                    count      mean       std   \nlinkID                                                                          \n3.377906e+18  2.278282  2.302234                 122530.0  6.220109  4.411983   \n3.377906e+18  2.719223  2.809738                 145826.0  6.138706  4.425351   \n3.377906e+18  2.088453  2.111372                 148856.0  6.141042  4.421631   \n3.377906e+18  2.408833  2.414716                 121269.0  6.175098  4.411249   \n3.377906e+18  2.119251  2.166837                 137209.0  6.159683  4.416599   \n...                ...       ...                      ...       ...       ...   \n9.377906e+18  2.174061  2.273295                 118374.0  6.224390  4.411614   \n9.377906e+18  3.023591  3.114593                 150988.0  6.109386  4.424329   \n9.377906e+18  2.328173  2.408272                 110683.0  6.202452  4.411732   \n9.377906e+18  2.384883  2.414467                 151017.0  6.114682  4.424082   \n9.377906e+18  2.029350  2.100853                 151422.0  6.111021  4.424087   \n\n                                         \n              min  25%  50%   75%   max  \nlinkID                                   \n3.377906e+18  0.0  2.0  6.0  10.0  14.0  \n3.377906e+18  0.0  2.0  5.0  10.0  14.0  \n3.377906e+18  0.0  2.0  5.0  10.0  14.0  \n3.377906e+18  0.0  2.0  6.0  10.0  14.0  \n3.377906e+18  0.0  2.0  5.0  10.0  14.0  \n...           ...  ...  ...   ...   ...  \n9.377906e+18  0.0  2.0  6.0  10.0  14.0  \n9.377906e+18  0.0  2.0  5.0  10.0  14.0  \n9.377906e+18  0.0  2.0  6.0  10.0  14.0  \n9.377906e+18  0.0  2.0  5.0  10.0  14.0  \n9.377906e+18  0.0  2.0  5.0  10.0  14.0  \n\n[132 rows x 24 columns]",
      "text/html": "<div>\n<style scoped>\n    .dataframe tbody tr th:only-of-type {\n        vertical-align: middle;\n    }\n\n    .dataframe tbody tr th {\n        vertical-align: top;\n    }\n\n    .dataframe thead tr th {\n        text-align: left;\n    }\n\n    .dataframe thead tr:last-of-type th {\n        text-align: right;\n    }\n</style>\n<table border=\"1\" class=\"dataframe\">\n  <thead>\n    <tr>\n      <th></th>\n      <th colspan=\"8\" halign=\"left\">travel_time</th>\n      <th colspan=\"5\" halign=\"left\">avg_travel_time_hour</th>\n      <th colspan=\"8\" halign=\"left\">combined_hour_day_encode</th>\n    </tr>\n    <tr>\n      <th></th>\n      <th>count</th>\n      <th>mean</th>\n      <th>std</th>\n      <th>min</th>\n      <th>25%</th>\n      <th>50%</th>\n      <th>75%</th>\n      <th>max</th>\n      <th>count</th>\n      <th>mean</th>\n      <th>...</th>\n      <th>75%</th>\n      <th>max</th>\n      <th>count</th>\n      <th>mean</th>\n      <th>std</th>\n      <th>min</th>\n      <th>25%</th>\n      <th>50%</th>\n      <th>75%</th>\n      <th>max</th>\n    </tr>\n    <tr>\n      <th>linkID</th>\n      <th></th>\n      <th></th>\n      <th></th>\n      <th></th>\n      <th></th>\n      <th></th>\n      <th></th>\n      <th></th>\n      <th></th>\n      <th></th>\n      <th></th>\n      <th></th>\n      <th></th>\n      <th></th>\n      <th></th>\n      <th></th>\n      <th></th>\n      <th></th>\n      <th></th>\n      <th></th>\n      <th></th>\n    </tr>\n  </thead>\n  <tbody>\n    <tr>\n      <th>3.377906e+18</th>\n      <td>122530.0</td>\n      <td>2.233718</td>\n      <td>0.243748</td>\n      <td>1.335001</td>\n      <td>2.219663</td>\n      <td>2.310238</td>\n      <td>2.401631</td>\n      <td>3.278207</td>\n      <td>122530.0</td>\n      <td>2.233718</td>\n      <td>...</td>\n      <td>2.278282</td>\n      <td>2.302234</td>\n      <td>122530.0</td>\n      <td>6.220109</td>\n      <td>4.411983</td>\n      <td>0.0</td>\n      <td>2.0</td>\n      <td>6.0</td>\n      <td>10.0</td>\n      <td>14.0</td>\n    </tr>\n    <tr>\n      <th>3.377906e+18</th>\n      <td>145826.0</td>\n      <td>2.604665</td>\n      <td>0.489743</td>\n      <td>1.435085</td>\n      <td>2.300349</td>\n      <td>2.404087</td>\n      <td>2.815409</td>\n      <td>4.876595</td>\n      <td>145826.0</td>\n      <td>2.604665</td>\n      <td>...</td>\n      <td>2.719223</td>\n      <td>2.809738</td>\n      <td>145826.0</td>\n      <td>6.138706</td>\n      <td>4.425351</td>\n      <td>0.0</td>\n      <td>2.0</td>\n      <td>5.0</td>\n      <td>10.0</td>\n      <td>14.0</td>\n    </tr>\n    <tr>\n      <th>3.377906e+18</th>\n      <td>148856.0</td>\n      <td>2.033935</td>\n      <td>0.428909</td>\n      <td>0.832909</td>\n      <td>1.629241</td>\n      <td>2.265155</td>\n      <td>2.377964</td>\n      <td>2.866920</td>\n      <td>148856.0</td>\n      <td>2.033935</td>\n      <td>...</td>\n      <td>2.088453</td>\n      <td>2.111372</td>\n      <td>148856.0</td>\n      <td>6.141042</td>\n      <td>4.421631</td>\n      <td>0.0</td>\n      <td>2.0</td>\n      <td>5.0</td>\n      <td>10.0</td>\n      <td>14.0</td>\n    </tr>\n    <tr>\n      <th>3.377906e+18</th>\n      <td>121269.0</td>\n      <td>2.345035</td>\n      <td>0.176963</td>\n      <td>1.481605</td>\n      <td>2.257927</td>\n      <td>2.338612</td>\n      <td>2.425094</td>\n      <td>4.036855</td>\n      <td>121269.0</td>\n      <td>2.345035</td>\n      <td>...</td>\n      <td>2.408833</td>\n      <td>2.414716</td>\n      <td>121269.0</td>\n      <td>6.175098</td>\n      <td>4.411249</td>\n      <td>0.0</td>\n      <td>2.0</td>\n      <td>6.0</td>\n      <td>10.0</td>\n      <td>14.0</td>\n    </tr>\n    <tr>\n      <th>3.377906e+18</th>\n      <td>137209.0</td>\n      <td>2.091604</td>\n      <td>0.418682</td>\n      <td>1.131402</td>\n      <td>1.629241</td>\n      <td>2.288618</td>\n      <td>2.391333</td>\n      <td>3.781978</td>\n      <td>137209.0</td>\n      <td>2.091604</td>\n      <td>...</td>\n      <td>2.119251</td>\n      <td>2.166837</td>\n      <td>137209.0</td>\n      <td>6.159683</td>\n      <td>4.416599</td>\n      <td>0.0</td>\n      <td>2.0</td>\n      <td>5.0</td>\n      <td>10.0</td>\n      <td>14.0</td>\n    </tr>\n    <tr>\n      <th>...</th>\n      <td>...</td>\n      <td>...</td>\n      <td>...</td>\n      <td>...</td>\n      <td>...</td>\n      <td>...</td>\n      <td>...</td>\n      <td>...</td>\n      <td>...</td>\n      <td>...</td>\n      <td>...</td>\n      <td>...</td>\n      <td>...</td>\n      <td>...</td>\n      <td>...</td>\n      <td>...</td>\n      <td>...</td>\n      <td>...</td>\n      <td>...</td>\n      <td>...</td>\n      <td>...</td>\n    </tr>\n    <tr>\n      <th>9.377906e+18</th>\n      <td>118374.0</td>\n      <td>2.097885</td>\n      <td>0.456783</td>\n      <td>0.741937</td>\n      <td>2.144335</td>\n      <td>2.304647</td>\n      <td>2.395221</td>\n      <td>3.163558</td>\n      <td>118374.0</td>\n      <td>2.097885</td>\n      <td>...</td>\n      <td>2.174061</td>\n      <td>2.273295</td>\n      <td>118374.0</td>\n      <td>6.224390</td>\n      <td>4.411614</td>\n      <td>0.0</td>\n      <td>2.0</td>\n      <td>6.0</td>\n      <td>10.0</td>\n      <td>14.0</td>\n    </tr>\n    <tr>\n      <th>9.377906e+18</th>\n      <td>150988.0</td>\n      <td>2.864127</td>\n      <td>0.734469</td>\n      <td>1.791759</td>\n      <td>2.333905</td>\n      <td>2.448351</td>\n      <td>3.437208</td>\n      <td>5.555111</td>\n      <td>150988.0</td>\n      <td>2.864127</td>\n      <td>...</td>\n      <td>3.023591</td>\n      <td>3.114593</td>\n      <td>150988.0</td>\n      <td>6.109386</td>\n      <td>4.424329</td>\n      <td>0.0</td>\n      <td>2.0</td>\n      <td>5.0</td>\n      <td>10.0</td>\n      <td>14.0</td>\n    </tr>\n    <tr>\n      <th>9.377906e+18</th>\n      <td>110683.0</td>\n      <td>2.292772</td>\n      <td>0.192700</td>\n      <td>1.223775</td>\n      <td>2.246707</td>\n      <td>2.326676</td>\n      <td>2.412544</td>\n      <td>3.761200</td>\n      <td>110683.0</td>\n      <td>2.292772</td>\n      <td>...</td>\n      <td>2.328173</td>\n      <td>2.408272</td>\n      <td>110683.0</td>\n      <td>6.202452</td>\n      <td>4.411732</td>\n      <td>0.0</td>\n      <td>2.0</td>\n      <td>6.0</td>\n      <td>10.0</td>\n      <td>14.0</td>\n    </tr>\n    <tr>\n      <th>9.377906e+18</th>\n      <td>151017.0</td>\n      <td>2.306214</td>\n      <td>0.253602</td>\n      <td>1.386294</td>\n      <td>2.220482</td>\n      <td>2.315355</td>\n      <td>2.417456</td>\n      <td>4.531942</td>\n      <td>151017.0</td>\n      <td>2.306214</td>\n      <td>...</td>\n      <td>2.384883</td>\n      <td>2.414467</td>\n      <td>151017.0</td>\n      <td>6.114682</td>\n      <td>4.424082</td>\n      <td>0.0</td>\n      <td>2.0</td>\n      <td>5.0</td>\n      <td>10.0</td>\n      <td>14.0</td>\n    </tr>\n    <tr>\n      <th>9.377906e+18</th>\n      <td>151422.0</td>\n      <td>1.987825</td>\n      <td>0.484319</td>\n      <td>0.741937</td>\n      <td>1.458615</td>\n      <td>2.264746</td>\n      <td>2.378783</td>\n      <td>3.991639</td>\n      <td>151422.0</td>\n      <td>1.987825</td>\n      <td>...</td>\n      <td>2.029350</td>\n      <td>2.100853</td>\n      <td>151422.0</td>\n      <td>6.111021</td>\n      <td>4.424087</td>\n      <td>0.0</td>\n      <td>2.0</td>\n      <td>5.0</td>\n      <td>10.0</td>\n      <td>14.0</td>\n    </tr>\n  </tbody>\n</table>\n<p>132 rows × 24 columns</p>\n</div>"
     },
     "execution_count": 8,
     "metadata": {},
     "output_type": "execute_result"
    }
   ],
   "source": [
    "time_data.groupby([\"linkID\"]).describe()"
   ],
   "metadata": {
    "collapsed": false,
    "ExecuteTime": {
     "end_time": "2024-06-04T08:55:54.594576Z",
     "start_time": "2024-06-04T08:55:50.754143Z"
    }
   }
  },
  {
   "cell_type": "code",
   "execution_count": 9,
   "outputs": [
    {
     "name": "stdout",
     "output_type": "stream",
     "text": [
      "<class 'pandas.core.frame.DataFrame'>\n",
      "RangeIndex: 19395095 entries, 0 to 19395094\n",
      "Data columns (total 9 columns):\n",
      " #   Column                         Dtype  \n",
      "---  ------                         -----  \n",
      " 0   linkID                         float64\n",
      " 1   combined_hour_day_encode       int32  \n",
      " 2   avg_travel_time_hour           float64\n",
      " 3   travel_time                    float64\n",
      " 4   travel_time_avg                float64\n",
      " 5   length                         float64\n",
      " 6   width                          float64\n",
      " 7   area                           float64\n",
      " 8   link_count_combination_encode  float64\n",
      "dtypes: float64(8), int32(1)\n",
      "memory usage: 1.2 GB\n"
     ]
    }
   ],
   "source": [
    "time_features = ['linkID', 'combined_hour_day_encode', 'avg_travel_time_hour', 'travel_time']  # , 'start_time'\n",
    "road_features = ['linkID', 'travel_time_avg', 'length', 'width', 'area', 'link_count_combination_encode']\n",
    "data_combine = pd.merge(time_data[time_features], road_data[road_features], on='linkID', how='left')\n",
    "data_combine.info()"
   ],
   "metadata": {
    "collapsed": false,
    "ExecuteTime": {
     "end_time": "2024-06-04T08:55:56.615680Z",
     "start_time": "2024-06-04T08:55:54.595582Z"
    }
   }
  },
  {
   "cell_type": "code",
   "execution_count": 10,
   "outputs": [
    {
     "name": "stdout",
     "output_type": "stream",
     "text": [
      "<class 'pandas.core.frame.DataFrame'>\n",
      "RangeIndex: 19395095 entries, 0 to 19395094\n",
      "Data columns (total 10 columns):\n",
      " #   Column                         Dtype  \n",
      "---  ------                         -----  \n",
      " 0   linkID                         float64\n",
      " 1   combined_hour_day_encode       int32  \n",
      " 2   avg_travel_time_hour           float64\n",
      " 3   travel_time                    float64\n",
      " 4   travel_time_avg                float64\n",
      " 5   length                         float64\n",
      " 6   width                          float64\n",
      " 7   area                           float64\n",
      " 8   link_count_combination_encode  float64\n",
      " 9   linkID_encode                  int64  \n",
      "dtypes: float64(8), int32(1), int64(1)\n",
      "memory usage: 1.4 GB\n"
     ]
    }
   ],
   "source": [
    "data_combine = encode_data(data_combine, 'linkID')\n",
    "data_combine.info()"
   ],
   "metadata": {
    "collapsed": false,
    "ExecuteTime": {
     "end_time": "2024-06-04T08:55:58.087849Z",
     "start_time": "2024-06-04T08:55:56.616724Z"
    }
   }
  },
  {
   "cell_type": "code",
   "execution_count": 11,
   "outputs": [
    {
     "data": {
      "text/plain": "11022675    2.390719\n263373      2.460492\n15438104    2.266588\n17982224    2.402450\n11938018    2.293325\n9744539     2.509599\n15449244    2.393175\n15023518    2.485796\n18797586    2.253629\n11241867    0.587787\nName: travel_time, dtype: float64"
     },
     "execution_count": 11,
     "metadata": {},
     "output_type": "execute_result"
    }
   ],
   "source": [
    "target = 'travel_time'\n",
    "features = time_features[1:-1] + road_features[1:]\n",
    "\n",
    "X = data_combine[features]\n",
    "y = data_combine[target]\n",
    "\n",
    "# 分割路径数据集\n",
    "X_train, X_test, y_train, y_test = train_test_split(X, y, test_size=0.2, random_state=42)\n",
    "\n",
    "\n",
    "X_train.head(10)\n",
    "y_train.head(10)"
   ],
   "metadata": {
    "collapsed": false,
    "ExecuteTime": {
     "end_time": "2024-06-04T08:56:02.524031Z",
     "start_time": "2024-06-04T08:55:58.088897Z"
    }
   }
  },
  {
   "cell_type": "markdown",
   "source": [
    "#### 交叉验证 网格调参\n",
    "####  运行时间会很长"
   ],
   "metadata": {
    "collapsed": false
   }
  },
  {
   "cell_type": "code",
   "outputs": [
    {
     "name": "stdout",
     "output_type": "stream",
     "text": [
      "Mean Squared Error: 0.22841158189028937\n"
     ]
    },
    {
     "data": {
      "text/plain": "<Figure size 640x480 with 1 Axes>",
      "image/png": "[encoded data removed]"
     },
     "metadata": {},
     "output_type": "display_data"
    }
   ],
   "source": [
    "# 初始化模型\n",
    "# 设置参数\n",
    "# 训练模型\n",
    "# 预测结果与评估\n",
    "xgb_reg = xgb.XGBRegressor(objective='reg:squarederror', n_estimators=100, learning_rate=0.05, max_depth=6)\n",
    "xgb_reg.fit(X_train, y_train)\n",
    "y_pred = xgb_reg.predict(X_test)\n",
    "mse = mean_squared_error(y_test, y_pred)\n",
    "print(f'Mean Squared Error: {mse}')\n",
    "#feature_importances\n",
    "plot_importance(xgb_reg)\n",
    "plt.show()\n"
   ],
   "metadata": {
    "collapsed": false,
    "ExecuteTime": {
     "end_time": "2024-06-04T08:57:19.464368Z",
     "start_time": "2024-06-04T08:56:02.526211Z"
    }
   },
   "execution_count": 12
  },
  {
   "cell_type": "code",
   "outputs": [
    {
     "name": "stdout",
     "output_type": "stream",
     "text": [
      "Thresh=0.0009906901977956295, n=7, MSE: 0.22841158189028937\n",
      "Thresh=0.0011382222874090075, n=6, MSE: 0.2284084477722706\n",
      "Thresh=0.0012109351810067892, n=5, MSE: 0.22841354506195005\n",
      "Thresh=0.0016268695471808314, n=4, MSE: 0.2284167474819784\n",
      "Thresh=0.0016681550769135356, n=3, MSE: 0.2287174417231232\n",
      "Thresh=0.0026264081243425608, n=2, MSE: 0.2287165262139707\n",
      "Thresh=0.9907387495040894, n=1, MSE: 0.22871313458641757\n"
     ]
    }
   ],
   "source": [
    "from sklearn.feature_selection import SelectFromModel\n",
    "\n",
    "#xgb的特征选择\n",
    "thresholds = sorted(xgb_reg.feature_importances_)\n",
    "for thresh in thresholds:\n",
    "    selection = SelectFromModel(xgb_reg, threshold=thresh, prefit=True)\n",
    "    select_X_train = selection.transform(X_train)\n",
    "    selection_model = xgb.XGBRegressor(objective='reg:squarederror', n_estimators=100, learning_rate=0.05, max_depth=6)\n",
    "    selection_model.fit(select_X_train, y_train)\n",
    "    select_X_test = selection.transform(X_test)\n",
    "    y_pred = selection_model.predict(select_X_test)\n",
    "    mse = mean_squared_error(y_test, y_pred)\n",
    "    print(f\"Thresh={thresh}, n={select_X_train.shape[1]}, MSE: {mse}\")"
   ],
   "metadata": {
    "collapsed": false,
    "ExecuteTime": {
     "end_time": "2024-06-04T09:05:13.935986Z",
     "start_time": "2024-06-04T08:57:19.465418Z"
    }
   },
   "execution_count": 13
  },
  {
   "cell_type": "code",
   "outputs": [
    {
     "name": "stdout",
     "output_type": "stream",
     "text": [
      "[LightGBM] [Warning] Accuracy may be bad since you didn't explicitly set num_leaves OR 2^max_depth > num_leaves. (num_leaves=31).\n",
      "[LightGBM] [Warning] Accuracy may be bad since you didn't explicitly set num_leaves OR 2^max_depth > num_leaves. (num_leaves=31).\n",
      "[LightGBM] [Info] Auto-choosing row-wise multi-threading, the overhead of testing was 0.086870 seconds.\n",
      "You can set `force_row_wise=true` to remove the overhead.\n",
      "And if memory is not enough, you can set `force_col_wise=true`.\n",
      "[LightGBM] [Info] Total Bins 517\n",
      "[LightGBM] [Info] Number of data points in the train set: 15516076, number of used features: 7\n",
      "[LightGBM] [Info] Start training from score 2.355114\n",
      "[LightGBM] [Warning] Accuracy may be bad since you didn't explicitly set num_leaves OR 2^max_depth > num_leaves. (num_leaves=31).\n",
      "Mean Squared Error: 0.22844817843263165\n"
     ]
    },
    {
     "data": {
      "text/plain": "<Axes: title={'center': 'Feature importance'}, xlabel='Feature importance', ylabel='Features'>"
     },
     "execution_count": 14,
     "metadata": {},
     "output_type": "execute_result"
    },
    {
     "data": {
      "text/plain": "<Figure size 640x480 with 1 Axes>",
      "image/png": "[encoded data removed]"
     },
     "metadata": {},
     "output_type": "display_data"
    }
   ],
   "source": [
    "import lightgbm as lgb\n",
    "lgb_reg = lgb.LGBMRegressor(objective='regression', n_estimators=100, learning_rate=0.05, max_depth=6)\n",
    "lgb_reg.fit(X_train, y_train)\n",
    "y_pred = lgb_reg.predict(X_test)\n",
    "mse = mean_squared_error(y_test, y_pred)\n",
    "print(f'Mean Squared Error: {mse}')\n",
    "#feature_importances\n",
    "lgb.plot_importance(lgb_reg)"
   ],
   "metadata": {
    "collapsed": false,
    "ExecuteTime": {
     "end_time": "2024-06-04T09:05:48.753790Z",
     "start_time": "2024-06-04T09:05:13.939081Z"
    }
   },
   "execution_count": 14
  },
  {
   "cell_type": "code",
   "outputs": [],
   "source": [
    "def train_models(X_train, y_train):\n",
    "    models = {\n",
    "        'xgboost': xgb.XGBRegressor(objective='reg:squarederror', n_estimators=100, max_depth=6, learning_rate=0.05),\n",
    "        'lightgbm': lgb.LGBMRegressor(n_estimators=100, max_depth=6, learning_rate=0.05),\n",
    "    }\n",
    "\n",
    "    for name, model in models.items():\n",
    "        model.fit(X_train, y_train)\n",
    "        models[name] = model\n",
    "    return models"
   ],
   "metadata": {
    "collapsed": false,
    "ExecuteTime": {
     "end_time": "2024-06-04T09:05:48.758711Z",
     "start_time": "2024-06-04T09:05:48.754853Z"
    }
   },
   "execution_count": 15
  },
  {
   "cell_type": "code",
   "outputs": [],
   "source": [
    "\n",
    "from sklearn.linear_model import LinearRegression\n",
    "\n",
    "\n",
    "def simple_average(models, X_test):\n",
    "    predictions = np.column_stack([model.predict(X_test) for model in models.values()])\n",
    "    return np.mean(predictions, axis=1)\n",
    "\n",
    "# 加权平均法\n",
    "def weighted_average(models, X_test, weights):\n",
    "    predictions = np.column_stack([model.predict(X_test) for model in models.values()])\n",
    "    return np.dot(predictions, weights)\n",
    "\n",
    "# 堆叠法\n",
    "def stacking(models, X_train, y_train, X_test):\n",
    "    stacked_train = np.column_stack([model.predict(X_train) for model in models.values()])\n",
    "    stacked_test = np.column_stack([model.predict(X_test) for model in models.values()])\n",
    "    meta_model = LinearRegression()\n",
    "    meta_model.fit(stacked_train, y_train)\n",
    "    return meta_model.predict(stacked_test)"
   ],
   "metadata": {
    "collapsed": false,
    "ExecuteTime": {
     "end_time": "2024-06-04T09:05:48.765388Z",
     "start_time": "2024-06-04T09:05:48.759769Z"
    }
   },
   "execution_count": 16
  },
  {
   "cell_type": "code",
   "execution_count": 17,
   "outputs": [
    {
     "name": "stdout",
     "output_type": "stream",
     "text": [
      "[LightGBM] [Warning] Accuracy may be bad since you didn't explicitly set num_leaves OR 2^max_depth > num_leaves. (num_leaves=31).\n",
      "[LightGBM] [Warning] Accuracy may be bad since you didn't explicitly set num_leaves OR 2^max_depth > num_leaves. (num_leaves=31).\n",
      "[LightGBM] [Info] Auto-choosing row-wise multi-threading, the overhead of testing was 0.083212 seconds.\n",
      "You can set `force_row_wise=true` to remove the overhead.\n",
      "And if memory is not enough, you can set `force_col_wise=true`.\n",
      "[LightGBM] [Info] Total Bins 517\n",
      "[LightGBM] [Info] Number of data points in the train set: 15516076, number of used features: 7\n",
      "[LightGBM] [Info] Start training from score 2.355114\n",
      "[LightGBM] [Warning] Accuracy may be bad since you didn't explicitly set num_leaves OR 2^max_depth > num_leaves. (num_leaves=31).\n",
      "simple_average 模型的均方误差为: 0.2284214615399772\n"
     ]
    }
   ],
   "source": [
    "\n",
    "models = train_models(X_train, y_train)\n",
    "\n",
    "# 选择融合方法\n",
    "fusion_method = 'simple_average'  # 'simple_average', 'weighted_average', or 'stacking'\n",
    "\n",
    "if fusion_method == 'simple_average':\n",
    "    y_pred = simple_average(models, X_test)\n",
    "elif fusion_method == 'weighted_average':\n",
    "    weights = np.array([0.4, 0.6])  # Example weights\n",
    "    y_pred = weighted_average(models, X_test, weights)\n",
    "elif fusion_method == 'stacking':\n",
    "    y_pred = stacking(models, X_train, y_train, X_test)\n",
    "else:\n",
    "    raise ValueError(\"Invalid fusion method selected.\")\n",
    "\n",
    "# 计算均方误差\n",
    "mse = mean_squared_error(y_test, y_pred)\n",
    "\n",
    "print(f\"{fusion_method} 模型的均方误差为:\", mse)\n",
    "\n"
   ],
   "metadata": {
    "collapsed": false,
    "ExecuteTime": {
     "end_time": "2024-06-04T09:07:35.183454Z",
     "start_time": "2024-06-04T09:05:48.766443Z"
    }
   }
  },
  {
   "cell_type": "code",
   "outputs": [
    {
     "name": "stdout",
     "output_type": "stream",
     "text": [
      "[LightGBM] [Warning] Accuracy may be bad since you didn't explicitly set num_leaves OR 2^max_depth > num_leaves. (num_leaves=31).\n",
      "weighted_average 模型的均方误差为: 0.22842545793907068\n",
      "[LightGBM] [Warning] Accuracy may be bad since you didn't explicitly set num_leaves OR 2^max_depth > num_leaves. (num_leaves=31).\n",
      "[LightGBM] [Warning] Accuracy may be bad since you didn't explicitly set num_leaves OR 2^max_depth > num_leaves. (num_leaves=31).\n",
      "stacking 模型的均方误差为: 0.22840421494182697\n"
     ]
    }
   ],
   "source": [
    "#weighted_average\n",
    "#试试\n",
    "weights = np.array([0.4, 0.6])  # Example weights\n",
    "y_pred = weighted_average(models, X_test, weights)\n",
    "mse = mean_squared_error(y_test, y_pred)\n",
    "print(f\"weighted_average 模型的均方误差为:\", mse)\n",
    "#试试 'stacking'\n",
    "y_pred = stacking(models, X_train, y_train, X_test)\n",
    "mse = mean_squared_error(y_test, y_pred)\n",
    "print(f\"stacking 模型的均方误差为:\", mse)"
   ],
   "metadata": {
    "collapsed": false,
    "ExecuteTime": {
     "end_time": "2024-06-04T09:07:53.711923Z",
     "start_time": "2024-06-04T09:07:35.183454Z"
    }
   },
   "execution_count": 18
  },
  {
   "cell_type": "code",
   "outputs": [
    {
     "name": "stdout",
     "output_type": "stream",
     "text": [
      "xgboost 模型的均方误差为: 0.22841158189028937\n",
      "[LightGBM] [Warning] Accuracy may be bad since you didn't explicitly set num_leaves OR 2^max_depth > num_leaves. (num_leaves=31).\n",
      "lightgbm 模型的均方误差为: 0.22844817843263165\n"
     ]
    }
   ],
   "source": [
    "for name, model in models.items():\n",
    "    y_pred = model.predict(X_test)\n",
    "    mse = mean_squared_error(y_test, y_pred)\n",
    "    print(f\"{name} 模型的均方误差为:\", mse)"
   ],
   "metadata": {
    "collapsed": false,
    "ExecuteTime": {
     "end_time": "2024-06-04T09:07:56.732235Z",
     "start_time": "2024-06-04T09:07:53.711923Z"
    }
   },
   "execution_count": 19
  },
  {
   "cell_type": "markdown",
   "source": [
    "## 消融实验"
   ],
   "metadata": {
    "collapsed": false
   }
  },
  {
   "cell_type": "code",
   "execution_count": 20,
   "outputs": [],
   "source": [
    "# def train_model(model_name, data, features, target='travel_time'):\n",
    "#     X = data[features]\n",
    "#     y = data[target]\n",
    "# \n",
    "#     # 分割路径数据集\n",
    "#     X_train, X_test, y_train, y_test = train_test_split(X, y, test_size=0.2, random_state=42)\n",
    "# \n",
    "#     # 训练路径数据模型\n",
    "#     model = xgb.XGBRegressor(objective='reg:squarederror', n_estimators=100, learning_rate=0.05, max_depth=6)\n",
    "#     model.fit(X_train, y_train)\n",
    "# \n",
    "#     # 预测路径数据\n",
    "#     y_pred = model.predict(X_test)\n",
    "# \n",
    "#     # 计算的均方误差\n",
    "#     mse = mean_squared_error(y_test, y_pred)\n",
    "#     print(f'Mean Squared Error: {mse}')\n",
    "# \n",
    "#     # 保存模型\n",
    "#     pickle.dump(xgb_reg, open(f'{model_name}.pkl', 'wb'))"
   ],
   "metadata": {
    "collapsed": false,
    "ExecuteTime": {
     "end_time": "2024-06-04T09:07:56.736691Z",
     "start_time": "2024-06-04T09:07:56.732235Z"
    }
   }
  },
  {
   "cell_type": "markdown",
   "source": [
    "### 1. Temporal feature and spatial feature"
   ],
   "metadata": {
    "collapsed": false
   }
  },
  {
   "cell_type": "code",
   "execution_count": 21,
   "outputs": [],
   "source": [
    "# features1 = time_features[1:-1] + road_features[1:]\n",
    "# train_model('xgb_st', data_combine, features1)"
   ],
   "metadata": {
    "collapsed": false,
    "ExecuteTime": {
     "end_time": "2024-06-04T09:07:56.740289Z",
     "start_time": "2024-06-04T09:07:56.736691Z"
    }
   }
  },
  {
   "cell_type": "markdown",
   "source": [
    "### 2. Without temporal feature"
   ],
   "metadata": {
    "collapsed": false
   }
  },
  {
   "cell_type": "code",
   "execution_count": 22,
   "outputs": [],
   "source": [
    "# features2 = road_features[1:]\n",
    "# train_model('xgb_s', data_combine, features2)"
   ],
   "metadata": {
    "collapsed": false,
    "ExecuteTime": {
     "end_time": "2024-06-04T09:07:56.744802Z",
     "start_time": "2024-06-04T09:07:56.740289Z"
    }
   }
  },
  {
   "cell_type": "markdown",
   "source": [
    "### 3. Without spatial feature"
   ],
   "metadata": {
    "collapsed": false
   }
  },
  {
   "cell_type": "code",
   "execution_count": 23,
   "outputs": [],
   "source": [
    "# features3 = time_features[1:-1]\n",
    "# train_model('xgb_t', data_combine, features3)"
   ],
   "metadata": {
    "collapsed": false,
    "ExecuteTime": {
     "end_time": "2024-06-04T09:07:56.748574Z",
     "start_time": "2024-06-04T09:07:56.744802Z"
    }
   }
  }
 ],
 "metadata": {
  "kernelspec": {
   "display_name": "Python 3",
   "language": "python",
   "name": "python3"
  },
  "language_info": {
   "codemirror_mode": {
    "name": "ipython",
    "version": 2
   },
   "file_extension": ".py",
   "mimetype": "text/x-python",
   "name": "python",
   "nbconvert_exporter": "python",
   "pygments_lexer": "ipython2",
   "version": "2.7.6"
  }
 },
 "nbformat": 4,
 "nbformat_minor": 0
}
